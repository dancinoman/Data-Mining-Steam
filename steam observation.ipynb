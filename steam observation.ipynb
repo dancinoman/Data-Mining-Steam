{
 "cells": [
  {
   "cell_type": "markdown",
   "id": "2db5b13d",
   "metadata": {},
   "source": [
    "# Mesuring steam satisfaction and price prediction"
   ]
  },
  {
   "cell_type": "code",
   "execution_count": 1,
   "id": "3fd50563",
   "metadata": {
    "scrolled": true
   },
   "outputs": [],
   "source": [
    "%load_ext autoreload\n",
    "%autoreload 2\n"
   ]
  },
  {
   "cell_type": "code",
   "execution_count": 2,
   "id": "6af1ca71",
   "metadata": {
    "scrolled": true
   },
   "outputs": [],
   "source": [
    "import pandas as pd\n",
    "import numpy as np\n",
    "from data.steam import Steam as st\n",
    "import seaborn as sns\n",
    "import matplotlib.pyplot as plt\n",
    "import numpy as np\n",
    "from sklearn.preprocessing import PolynomialFeatures\n",
    "from sklearn.linear_model import LinearRegression\n",
    "from sklearn.model_selection import cross_validate, learning_curve\n",
    "import statsmodels.api as sm\n",
    "import statsmodels.formula.api as smf\n",
    "from sklearn.preprocessing import StandardScaler\n",
    "import datetime"
   ]
  },
  {
   "attachments": {
    "Steam_Logo.png": {
     "image/png": "[encoded data removed]"
    }
   },
   "cell_type": "markdown",
   "id": "00e9e6db",
   "metadata": {},
   "source": [
    "![Steam_Logo.png](attachment:Steam_Logo.png)"
   ]
  },
  {
   "cell_type": "markdown",
   "id": "e3559227",
   "metadata": {},
   "source": [
    "Steam is a video game digital distribution service and storefront developed by Valve Corporation. It was launched as a software client in September 2003 to provide game updates automatically for Valve's games, and expanded to distributing third-party titles in late 2005."
   ]
  },
  {
   "cell_type": "markdown",
   "id": "57011c97",
   "metadata": {},
   "source": [
    "https://moldstud.com/articles/p-data-science-in-the-gaming-industry-trends-and-innovations#:~:text=retention%20and%20engagement.-,2.,fraud%2C%20and%20deliver%20tailored%20content.\n",
    "\n",
    "Data scientists use statistical modeling and machine learning algorithms to predict player churn, identify potential fraud and cheating, and anticipate player preferences.\n",
    "This helps in devising appropriate strategies to retain players, prevent fraud, and deliver tailored content."
   ]
  },
  {
   "cell_type": "code",
   "execution_count": 3,
   "id": "f386313a",
   "metadata": {
    "scrolled": false
   },
   "outputs": [
    {
     "name": "stdout",
     "output_type": "stream",
     "text": [
      "\u001b[32mCompleted:..............................|██████████████████████████████████████████████████|\n"
     ]
    }
   ],
   "source": [
    "games_df = st.Steam().get_three_dataset_game_price()"
   ]
  },
  {
   "cell_type": "code",
   "execution_count": 4,
   "id": "18efddb6",
   "metadata": {
    "scrolled": true
   },
   "outputs": [
    {
     "data": {
      "text/html": [
       "<div>\n",
       "<style scoped>\n",
       "    .dataframe tbody tr th:only-of-type {\n",
       "        vertical-align: middle;\n",
       "    }\n",
       "\n",
       "    .dataframe tbody tr th {\n",
       "        vertical-align: top;\n",
       "    }\n",
       "\n",
       "    .dataframe thead th {\n",
       "        text-align: right;\n",
       "    }\n",
       "</style>\n",
       "<table border=\"1\" class=\"dataframe\">\n",
       "  <thead>\n",
       "    <tr style=\"text-align: right;\">\n",
       "      <th></th>\n",
       "      <th>app_id</th>\n",
       "      <th>Name</th>\n",
       "      <th>Release date</th>\n",
       "      <th>Estimated owners</th>\n",
       "      <th>Peak CCU</th>\n",
       "      <th>Required age</th>\n",
       "      <th>Price</th>\n",
       "      <th>DLC count</th>\n",
       "      <th>About the game</th>\n",
       "      <th>Supported languages</th>\n",
       "      <th>...</th>\n",
       "      <th>Median playtime forever</th>\n",
       "      <th>Median playtime two weeks</th>\n",
       "      <th>Developers</th>\n",
       "      <th>Publishers</th>\n",
       "      <th>Categories</th>\n",
       "      <th>Genres</th>\n",
       "      <th>Tags</th>\n",
       "      <th>review_score</th>\n",
       "      <th>review_votes</th>\n",
       "      <th>price</th>\n",
       "    </tr>\n",
       "  </thead>\n",
       "  <tbody>\n",
       "    <tr>\n",
       "      <th>3</th>\n",
       "      <td>22670</td>\n",
       "      <td>Alien Breed 3: Descent</td>\n",
       "      <td>2010-11-17</td>\n",
       "      <td>200000 - 500000</td>\n",
       "      <td>3</td>\n",
       "      <td>0</td>\n",
       "      <td>9.99</td>\n",
       "      <td>0</td>\n",
       "      <td>Alien Breed™ 3: Descent is the final explosive...</td>\n",
       "      <td>['English', 'French', 'German', 'Italian', 'Ja...</td>\n",
       "      <td>...</td>\n",
       "      <td>24</td>\n",
       "      <td>0</td>\n",
       "      <td>Team17 Digital Ltd</td>\n",
       "      <td>Team17 Digital Ltd</td>\n",
       "      <td>Single-player,Multi-player,Co-op,Steam Achieve...</td>\n",
       "      <td>Action</td>\n",
       "      <td>Action,Shooter,Sci-fi,Aliens,Third Person,Isom...</td>\n",
       "      <td>0.309091</td>\n",
       "      <td>0.127273</td>\n",
       "      <td>NaN</td>\n",
       "    </tr>\n",
       "    <tr>\n",
       "      <th>4</th>\n",
       "      <td>346560</td>\n",
       "      <td>Hero of the Kingdom II</td>\n",
       "      <td>2015-02-20</td>\n",
       "      <td>100000 - 200000</td>\n",
       "      <td>5</td>\n",
       "      <td>0</td>\n",
       "      <td>7.99</td>\n",
       "      <td>0</td>\n",
       "      <td>Sail to the farthest islands to save your sist...</td>\n",
       "      <td>['English', 'French', 'German', 'Spanish - Spa...</td>\n",
       "      <td>...</td>\n",
       "      <td>303</td>\n",
       "      <td>0</td>\n",
       "      <td>Lonely Troops</td>\n",
       "      <td>Lonely Troops</td>\n",
       "      <td>Single-player,Steam Achievements,Steam Trading...</td>\n",
       "      <td>Adventure,Casual,Indie,RPG</td>\n",
       "      <td>Adventure,Casual,Point &amp; Click,RPG,Indie,Isome...</td>\n",
       "      <td>0.857143</td>\n",
       "      <td>0.116883</td>\n",
       "      <td>NaN</td>\n",
       "    </tr>\n",
       "    <tr>\n",
       "      <th>6</th>\n",
       "      <td>434030</td>\n",
       "      <td>Aerofly FS 2 Flight Simulator</td>\n",
       "      <td>2017-11-20</td>\n",
       "      <td>100000 - 200000</td>\n",
       "      <td>19</td>\n",
       "      <td>0</td>\n",
       "      <td>37.49</td>\n",
       "      <td>23</td>\n",
       "      <td>Aerofly FS 2 lets you explore the world of fly...</td>\n",
       "      <td>['English', 'German', 'French']</td>\n",
       "      <td>...</td>\n",
       "      <td>127</td>\n",
       "      <td>0</td>\n",
       "      <td>IPACS</td>\n",
       "      <td>IPACS</td>\n",
       "      <td>Single-player,Partial Controller Support</td>\n",
       "      <td>Action,Indie,Racing,Simulation</td>\n",
       "      <td>Flight,Simulation,VR,Racing,Physics,Open World...</td>\n",
       "      <td>0.557196</td>\n",
       "      <td>0.284133</td>\n",
       "      <td>NaN</td>\n",
       "    </tr>\n",
       "    <tr>\n",
       "      <th>7</th>\n",
       "      <td>42500</td>\n",
       "      <td>DogFighter</td>\n",
       "      <td>2010-06-14</td>\n",
       "      <td>100000 - 200000</td>\n",
       "      <td>1</td>\n",
       "      <td>0</td>\n",
       "      <td>0.99</td>\n",
       "      <td>0</td>\n",
       "      <td>DogFighter is a fast paced, arcade aerial comb...</td>\n",
       "      <td>['English']</td>\n",
       "      <td>...</td>\n",
       "      <td>1108</td>\n",
       "      <td>0</td>\n",
       "      <td>Dark Water Studios Ltd</td>\n",
       "      <td>Instinct Software Ltd.</td>\n",
       "      <td>Single-player,Multi-player,Co-op,Steam Achieve...</td>\n",
       "      <td>Action,Indie</td>\n",
       "      <td>Action,Indie,Flight,Arcade,Multiplayer,Singlep...</td>\n",
       "      <td>0.215311</td>\n",
       "      <td>0.196172</td>\n",
       "      <td>NaN</td>\n",
       "    </tr>\n",
       "    <tr>\n",
       "      <th>8</th>\n",
       "      <td>262150</td>\n",
       "      <td>Vanguard Princess</td>\n",
       "      <td>2014-03-03</td>\n",
       "      <td>200000 - 500000</td>\n",
       "      <td>1</td>\n",
       "      <td>0</td>\n",
       "      <td>2.49</td>\n",
       "      <td>7</td>\n",
       "      <td>Government experiments on a young girl trigger...</td>\n",
       "      <td>['English']</td>\n",
       "      <td>...</td>\n",
       "      <td>244</td>\n",
       "      <td>0</td>\n",
       "      <td>Tomoaki Sugeno</td>\n",
       "      <td>eigoMANGA</td>\n",
       "      <td>Single-player,Multi-player,PvP,Shared/Split Sc...</td>\n",
       "      <td>Action,Casual,Indie</td>\n",
       "      <td>Anime,Fighting,2D Fighter,Indie,Female Protago...</td>\n",
       "      <td>0.337413</td>\n",
       "      <td>0.170455</td>\n",
       "      <td>NaN</td>\n",
       "    </tr>\n",
       "  </tbody>\n",
       "</table>\n",
       "<p>5 rows × 33 columns</p>\n",
       "</div>"
      ],
      "text/plain": [
       "   app_id                           Name Release date Estimated owners  \\\n",
       "3   22670         Alien Breed 3: Descent   2010-11-17  200000 - 500000   \n",
       "4  346560         Hero of the Kingdom II   2015-02-20  100000 - 200000   \n",
       "6  434030  Aerofly FS 2 Flight Simulator   2017-11-20  100000 - 200000   \n",
       "7   42500                     DogFighter   2010-06-14  100000 - 200000   \n",
       "8  262150              Vanguard Princess   2014-03-03  200000 - 500000   \n",
       "\n",
       "   Peak CCU  Required age  Price  DLC count  \\\n",
       "3         3             0   9.99          0   \n",
       "4         5             0   7.99          0   \n",
       "6        19             0  37.49         23   \n",
       "7         1             0   0.99          0   \n",
       "8         1             0   2.49          7   \n",
       "\n",
       "                                      About the game  \\\n",
       "3  Alien Breed™ 3: Descent is the final explosive...   \n",
       "4  Sail to the farthest islands to save your sist...   \n",
       "6  Aerofly FS 2 lets you explore the world of fly...   \n",
       "7  DogFighter is a fast paced, arcade aerial comb...   \n",
       "8  Government experiments on a young girl trigger...   \n",
       "\n",
       "                                 Supported languages  ...  \\\n",
       "3  ['English', 'French', 'German', 'Italian', 'Ja...  ...   \n",
       "4  ['English', 'French', 'German', 'Spanish - Spa...  ...   \n",
       "6                    ['English', 'German', 'French']  ...   \n",
       "7                                        ['English']  ...   \n",
       "8                                        ['English']  ...   \n",
       "\n",
       "  Median playtime forever Median playtime two weeks              Developers  \\\n",
       "3                      24                         0      Team17 Digital Ltd   \n",
       "4                     303                         0           Lonely Troops   \n",
       "6                     127                         0                   IPACS   \n",
       "7                    1108                         0  Dark Water Studios Ltd   \n",
       "8                     244                         0          Tomoaki Sugeno   \n",
       "\n",
       "               Publishers                                         Categories  \\\n",
       "3      Team17 Digital Ltd  Single-player,Multi-player,Co-op,Steam Achieve...   \n",
       "4           Lonely Troops  Single-player,Steam Achievements,Steam Trading...   \n",
       "6                   IPACS           Single-player,Partial Controller Support   \n",
       "7  Instinct Software Ltd.  Single-player,Multi-player,Co-op,Steam Achieve...   \n",
       "8               eigoMANGA  Single-player,Multi-player,PvP,Shared/Split Sc...   \n",
       "\n",
       "                           Genres  \\\n",
       "3                          Action   \n",
       "4      Adventure,Casual,Indie,RPG   \n",
       "6  Action,Indie,Racing,Simulation   \n",
       "7                    Action,Indie   \n",
       "8             Action,Casual,Indie   \n",
       "\n",
       "                                                Tags  review_score  \\\n",
       "3  Action,Shooter,Sci-fi,Aliens,Third Person,Isom...      0.309091   \n",
       "4  Adventure,Casual,Point & Click,RPG,Indie,Isome...      0.857143   \n",
       "6  Flight,Simulation,VR,Racing,Physics,Open World...      0.557196   \n",
       "7  Action,Indie,Flight,Arcade,Multiplayer,Singlep...      0.215311   \n",
       "8  Anime,Fighting,2D Fighter,Indie,Female Protago...      0.337413   \n",
       "\n",
       "   review_votes  price  \n",
       "3      0.127273    NaN  \n",
       "4      0.116883    NaN  \n",
       "6      0.284133    NaN  \n",
       "7      0.196172    NaN  \n",
       "8      0.170455    NaN  \n",
       "\n",
       "[5 rows x 33 columns]"
      ]
     },
     "execution_count": 4,
     "metadata": {},
     "output_type": "execute_result"
    }
   ],
   "source": [
    "games_df = games_df[games_df['Peak CCU'] > 0]\n",
    "games_df.head()"
   ]
  },
  {
   "cell_type": "code",
   "execution_count": 6,
   "id": "8ca193f4",
   "metadata": {},
   "outputs": [],
   "source": [
    "games_df.sort_values(['review_score'], inplace= True)"
   ]
  },
  {
   "cell_type": "code",
   "execution_count": 170,
   "id": "8f92584e",
   "metadata": {
    "scrolled": true
   },
   "outputs": [],
   "source": [
    "# scale features\n",
    "from sklearn.preprocessing import MinMaxScaler, Normalizer\n",
    "\n",
    "sample_for_test = games_df.sample(4000).copy()\n",
    "\n",
    "X = sample_for_test[['review_score']]\n",
    "\n",
    "#scaler = MinMaxScaler()\n",
    "#scaler.fit(X)\n",
    "#X = scaler.transform(X)\n",
    "\n",
    "# scale the Peak CCU\n",
    "\n",
    "y = np.log(sample_for_test['Peak CCU'])\n",
    "\n"
   ]
  },
  {
   "cell_type": "code",
   "execution_count": 171,
   "id": "93b03848",
   "metadata": {},
   "outputs": [
    {
     "data": {
      "text/plain": [
       "((2800, 1), (2800,))"
      ]
     },
     "execution_count": 171,
     "metadata": {},
     "output_type": "execute_result"
    }
   ],
   "source": [
    "from sklearn.model_selection import train_test_split\n",
    "\n",
    "X_train, X_test, y_train, y_test = train_test_split(X, y, test_size= 0.3)\n",
    "\n",
    "X_train.shape, y_train.shape"
   ]
  },
  {
   "cell_type": "code",
   "execution_count": 182,
   "id": "29a3549f",
   "metadata": {
    "scrolled": true
   },
   "outputs": [],
   "source": [
    "# Using tensor flow model\n",
    "from tensorflow.keras.optimizers import Adam,SGD\n",
    "from tensorflow.keras.models import Sequential\n",
    "from tensorflow.keras import layers\n",
    "\n",
    "\n",
    "def initialize_model():\n",
    "    \n",
    "    model = Sequential()\n",
    "    opt_adam = Adam(learning_rate = 0.001)\n",
    "    \n",
    "    model.add(layers.Dense(20, activation='tanh', input_dim=1))\n",
    "    model.add(layers.Dense(1, activation='linear'))\n",
    "    \n",
    "    model.compile(\n",
    "                loss = 'mse',\n",
    "                optimizer = opt_adam,\n",
    "                metrics = 'mae'\n",
    "    )\n",
    "    \n",
    "    return model\n"
   ]
  },
  {
   "cell_type": "code",
   "execution_count": 183,
   "id": "0b943cf1",
   "metadata": {},
   "outputs": [
    {
     "data": {
      "text/plain": [
       "1.6703324740382206"
      ]
     },
     "execution_count": 183,
     "metadata": {},
     "output_type": "execute_result"
    }
   ],
   "source": [
    "base_line = abs(y_test - y_train.mean()).mean()\n",
    "base_line"
   ]
  },
  {
   "cell_type": "code",
   "execution_count": 184,
   "id": "7687740e",
   "metadata": {
    "scrolled": false
   },
   "outputs": [
    {
     "name": "stdout",
     "output_type": "stream",
     "text": [
      "Model: \"sequential_29\"\n",
      "_________________________________________________________________\n",
      " Layer (type)                Output Shape              Param #   \n",
      "=================================================================\n",
      " dense_59 (Dense)            (None, 20)                40        \n",
      "                                                                 \n",
      " dense_60 (Dense)            (None, 1)                 21        \n",
      "                                                                 \n",
      "=================================================================\n",
      "Total params: 61 (244.00 Byte)\n",
      "Trainable params: 61 (244.00 Byte)\n",
      "Non-trainable params: 0 (0.00 Byte)\n",
      "_________________________________________________________________\n"
     ]
    }
   ],
   "source": [
    "model = initialize_model()\n",
    "model.summary()\n",
    "\n"
   ]
  },
  {
   "cell_type": "code",
   "execution_count": 185,
   "id": "5a0976e5",
   "metadata": {
    "scrolled": true
   },
   "outputs": [
    {
     "name": "stdout",
     "output_type": "stream",
     "text": [
      "Epoch 1/1000\n",
      "123/123 [==============================] - 1s 7ms/step - loss: 7.2926 - mae: 1.8796 - val_loss: 5.3701 - val_mae: 1.6226\n",
      "Epoch 2/1000\n",
      "123/123 [==============================] - 1s 6ms/step - loss: 4.8216 - mae: 1.6262 - val_loss: 4.6669 - val_mae: 1.6412\n",
      "Epoch 3/1000\n",
      "123/123 [==============================] - 1s 6ms/step - loss: 4.5230 - mae: 1.6569 - val_loss: 4.6618 - val_mae: 1.6690\n",
      "Epoch 4/1000\n",
      "123/123 [==============================] - 1s 6ms/step - loss: 4.5131 - mae: 1.6648 - val_loss: 4.6665 - val_mae: 1.6813\n",
      "Epoch 5/1000\n",
      "123/123 [==============================] - 1s 6ms/step - loss: 4.5114 - mae: 1.6735 - val_loss: 4.6537 - val_mae: 1.6768\n",
      "Epoch 6/1000\n",
      "123/123 [==============================] - 1s 7ms/step - loss: 4.5062 - mae: 1.6688 - val_loss: 4.6576 - val_mae: 1.6846\n",
      "Epoch 7/1000\n",
      "123/123 [==============================] - 1s 6ms/step - loss: 4.5035 - mae: 1.6710 - val_loss: 4.6423 - val_mae: 1.6754\n",
      "Epoch 8/1000\n",
      "123/123 [==============================] - 1s 6ms/step - loss: 4.5022 - mae: 1.6722 - val_loss: 4.6365 - val_mae: 1.6717\n",
      "Epoch 9/1000\n",
      "123/123 [==============================] - 1s 7ms/step - loss: 4.5023 - mae: 1.6671 - val_loss: 4.6358 - val_mae: 1.6731\n",
      "Epoch 10/1000\n",
      "123/123 [==============================] - 1s 6ms/step - loss: 4.5012 - mae: 1.6731 - val_loss: 4.6314 - val_mae: 1.6666\n",
      "Epoch 11/1000\n",
      "123/123 [==============================] - 1s 6ms/step - loss: 4.5013 - mae: 1.6617 - val_loss: 4.6478 - val_mae: 1.6887\n",
      "Epoch 12/1000\n",
      "123/123 [==============================] - 1s 6ms/step - loss: 4.5022 - mae: 1.6700 - val_loss: 4.6483 - val_mae: 1.6896\n",
      "Epoch 13/1000\n",
      "123/123 [==============================] - 1s 6ms/step - loss: 4.5037 - mae: 1.6724 - val_loss: 4.6416 - val_mae: 1.6851\n",
      "Epoch 14/1000\n",
      "123/123 [==============================] - 1s 5ms/step - loss: 4.5032 - mae: 1.6727 - val_loss: 4.6469 - val_mae: 1.6906\n",
      "Epoch 15/1000\n",
      "123/123 [==============================] - 1s 6ms/step - loss: 4.4987 - mae: 1.6756 - val_loss: 4.6323 - val_mae: 1.6750\n",
      "Epoch 16/1000\n",
      "123/123 [==============================] - 1s 5ms/step - loss: 4.5023 - mae: 1.6630 - val_loss: 4.6467 - val_mae: 1.6896\n",
      "Epoch 17/1000\n",
      "123/123 [==============================] - 1s 5ms/step - loss: 4.5057 - mae: 1.6784 - val_loss: 4.6311 - val_mae: 1.6731\n",
      "Epoch 18/1000\n",
      "123/123 [==============================] - 1s 6ms/step - loss: 4.5060 - mae: 1.6700 - val_loss: 4.6359 - val_mae: 1.6798\n",
      "Epoch 19/1000\n",
      "123/123 [==============================] - 1s 6ms/step - loss: 4.5029 - mae: 1.6785 - val_loss: 4.6259 - val_mae: 1.6635\n",
      "Epoch 20/1000\n",
      "123/123 [==============================] - 1s 8ms/step - loss: 4.5043 - mae: 1.6642 - val_loss: 4.6323 - val_mae: 1.6754\n",
      "Epoch 21/1000\n",
      "123/123 [==============================] - 1s 8ms/step - loss: 4.5046 - mae: 1.6731 - val_loss: 4.6508 - val_mae: 1.6939\n",
      "Epoch 22/1000\n",
      "123/123 [==============================] - 1s 6ms/step - loss: 4.5014 - mae: 1.6761 - val_loss: 4.6271 - val_mae: 1.6692\n",
      "Epoch 23/1000\n",
      "123/123 [==============================] - 1s 7ms/step - loss: 4.5014 - mae: 1.6685 - val_loss: 4.6366 - val_mae: 1.6821\n",
      "Epoch 24/1000\n",
      "123/123 [==============================] - 1s 6ms/step - loss: 4.5048 - mae: 1.6717 - val_loss: 4.6460 - val_mae: 1.6896\n",
      "Epoch 25/1000\n",
      "123/123 [==============================] - 1s 5ms/step - loss: 4.5000 - mae: 1.6722 - val_loss: 4.6370 - val_mae: 1.6824\n",
      "Epoch 26/1000\n",
      "123/123 [==============================] - 1s 6ms/step - loss: 4.5073 - mae: 1.6681 - val_loss: 4.6338 - val_mae: 1.6791\n",
      "Epoch 27/1000\n",
      "123/123 [==============================] - 1s 5ms/step - loss: 4.5047 - mae: 1.6763 - val_loss: 4.6332 - val_mae: 1.6778\n",
      "Epoch 28/1000\n",
      "123/123 [==============================] - 1s 6ms/step - loss: 4.5013 - mae: 1.6722 - val_loss: 4.6345 - val_mae: 1.6793\n",
      "Epoch 29/1000\n",
      "123/123 [==============================] - 1s 7ms/step - loss: 4.5026 - mae: 1.6740 - val_loss: 4.6272 - val_mae: 1.6651\n",
      "Epoch 30/1000\n",
      "123/123 [==============================] - 1s 6ms/step - loss: 4.5000 - mae: 1.6665 - val_loss: 4.6388 - val_mae: 1.6834\n",
      "Epoch 31/1000\n",
      "123/123 [==============================] - 1s 7ms/step - loss: 4.5017 - mae: 1.6745 - val_loss: 4.6325 - val_mae: 1.6768\n",
      "Epoch 32/1000\n",
      "123/123 [==============================] - 1s 5ms/step - loss: 4.5031 - mae: 1.6694 - val_loss: 4.6293 - val_mae: 1.6726\n",
      "Epoch 33/1000\n",
      "123/123 [==============================] - 1s 5ms/step - loss: 4.4984 - mae: 1.6726 - val_loss: 4.6322 - val_mae: 1.6765\n",
      "Epoch 34/1000\n",
      "123/123 [==============================] - 1s 6ms/step - loss: 4.5090 - mae: 1.6662 - val_loss: 4.6437 - val_mae: 1.6874\n",
      "Epoch 35/1000\n",
      "123/123 [==============================] - 1s 5ms/step - loss: 4.5062 - mae: 1.6781 - val_loss: 4.6354 - val_mae: 1.6795\n",
      "Epoch 36/1000\n",
      "123/123 [==============================] - 1s 5ms/step - loss: 4.5043 - mae: 1.6745 - val_loss: 4.6338 - val_mae: 1.6774\n",
      "Epoch 37/1000\n",
      "123/123 [==============================] - 1s 5ms/step - loss: 4.5019 - mae: 1.6770 - val_loss: 4.6271 - val_mae: 1.6670\n",
      "Epoch 38/1000\n",
      "123/123 [==============================] - 1s 5ms/step - loss: 4.5039 - mae: 1.6616 - val_loss: 4.6350 - val_mae: 1.6794\n",
      "Epoch 39/1000\n",
      "123/123 [==============================] - 1s 6ms/step - loss: 4.5052 - mae: 1.6712 - val_loss: 4.6334 - val_mae: 1.6783\n"
     ]
    }
   ],
   "source": [
    "from tensorflow.keras.callbacks import EarlyStopping\n",
    "\n",
    "es = EarlyStopping(patience = 20, restore_best_weights=True)\n",
    "\n",
    "history = model.fit(X_train, \n",
    "          y_train, \n",
    "          batch_size=16, \n",
    "          epochs=1000, \n",
    "          validation_split= 0.3,\n",
    "          callbacks=[es])\n"
   ]
  },
  {
   "cell_type": "code",
   "execution_count": 176,
   "id": "45334272",
   "metadata": {},
   "outputs": [],
   "source": [
    "def plot_loss_accuracy(history):\n",
    "    plt.plot(history.history['loss'])\n",
    "    plt.plot(history.history['val_loss'])\n",
    "    plt.title('Model loss')\n",
    "    plt.ylabel('Loss')\n",
    "    plt.xlabel('Epoch')\n",
    "    plt.legend(['Train', 'Test'], loc='best')\n",
    "    plt.show()\n",
    "    \n",
    "    plt.plot(history.history['mae'])\n",
    "    plt.plot(history.history['val_mae'])\n",
    "    plt.title('Model MAE')\n",
    "    plt.ylabel('MAE')\n",
    "    plt.xlabel('Epoch')\n",
    "    plt.legend(['Train', 'Test'], loc='best')\n",
    "    plt.show()"
   ]
  },
  {
   "cell_type": "code",
   "execution_count": 177,
   "id": "ca15b5d5",
   "metadata": {
    "scrolled": true
   },
   "outputs": [
    {
     "data": {
      "image/png": "[encoded data removed]",
      "text/plain": [
       "<Figure size 640x480 with 1 Axes>"
      ]
     },
     "metadata": {},
     "output_type": "display_data"
    },
    {
     "data": {
      "image/png": "[encoded data removed]",
      "text/plain": [
       "<Figure size 640x480 with 1 Axes>"
      ]
     },
     "metadata": {},
     "output_type": "display_data"
    }
   ],
   "source": [
    "plot_loss_accuracy(history)"
   ]
  },
  {
   "cell_type": "code",
   "execution_count": 127,
   "id": "be79da40",
   "metadata": {},
   "outputs": [
    {
     "name": "stdout",
     "output_type": "stream",
     "text": [
      "38/38 [==============================] - 0s 4ms/step - loss: 4.2952 - mae: 1.6259\n"
     ]
    },
    {
     "data": {
      "text/plain": [
       "[4.295156002044678, 1.6258739233016968]"
      ]
     },
     "execution_count": 127,
     "metadata": {},
     "output_type": "execute_result"
    }
   ],
   "source": [
    "model.evaluate(X_test, y_test)"
   ]
  },
  {
   "cell_type": "code",
   "execution_count": 71,
   "id": "9086df85",
   "metadata": {},
   "outputs": [
    {
     "data": {
      "text/plain": [
       "0.030082747604865907"
      ]
     },
     "execution_count": 71,
     "metadata": {},
     "output_type": "execute_result"
    }
   ],
   "source": [
    "from sklearn.linear_model import LinearRegression\n",
    "from sklearn.model_selection import cross_validate\n",
    "reg = LinearRegression()\n",
    "\n",
    "model = cross_validate(reg, X_train, y_train, cv = 7)\n",
    "model['test_score'].mean()"
   ]
  },
  {
   "cell_type": "markdown",
   "id": "30c0aa01",
   "metadata": {
    "heading_collapsed": true
   },
   "source": [
    "## Popular games vs rating"
   ]
  },
  {
   "cell_type": "code",
   "execution_count": null,
   "id": "18eb3379",
   "metadata": {
    "hidden": true,
    "scrolled": true
   },
   "outputs": [],
   "source": [
    "games_top = st.Steam().get_top_games()\n",
    "games_top.head()"
   ]
  },
  {
   "cell_type": "code",
   "execution_count": null,
   "id": "b900773e",
   "metadata": {
    "hidden": true,
    "scrolled": false
   },
   "outputs": [],
   "source": [
    "\n",
    "\n",
    "games_top = games_top[games_top['followers'] > 0]\n",
    "sample = games_top.sample(1000)\n",
    "X = sorted(sample[['rating']])\n",
    "y = sorted(sample['followers'])\n",
    "sns.scatterplot(x=sample['rating'], y=sample['max peak'], alpha = 0.2)\n",
    "plt.ylim(0,15000)\n",
    "plt.show()\n",
    "\n",
    "# TODO check joblib memory\n",
    "# had 0.20579852251219205 with polynomial and transformed log outside pipeline\n",
    "import numpy as np\n",
    "from sklearn.pipeline import make_pipeline, FunctionTransformer\n",
    "from sklearn.compose import make_column_transformer\n",
    "from sklearn.linear_model import Lasso\n",
    "from sklearn.linear_model import LassoCV\n",
    "from sklearn.model_selection import GridSearchCV\n",
    "from sklearn.model_selection import train_test_split\n",
    "\n",
    "sample = games_top.sample(1000)\n",
    "\n",
    "X_train, X_test, y_train, y_test = train_test_split(sample[['rating']], sample['max peak'], \n",
    "                                                 test_size=0.33, \n",
    "                                                 random_state=42)\n",
    "\n",
    "\n",
    "transformer = FunctionTransformer(lambda y: np.log(y))\n",
    "\n",
    "pipeline = make_pipeline(\n",
    "    PolynomialFeatures(degree=2, include_bias=False),\n",
    "    Lasso(alpha = 1),\n",
    "    memory=\"tmp/cache\"\n",
    ")\n",
    "\n",
    "grid_search = GridSearchCV(\n",
    "    pipeline,\n",
    "    param_grid={\n",
    "        \n",
    "        'polynomialfeatures__degree': [1,2,3,4,5,6,7],\n",
    "        'lasso__alpha': [0.1,0.3,0.5,0.7,1]\n",
    "        \n",
    "    },\n",
    "    cv=5,\n",
    "    scoring=\"r2\")\n",
    "\n",
    "\n",
    "\n",
    "X = X_train\n",
    "y = np.log(y_train)\n",
    "\n",
    "sorted_X = games_top.sort_values('rating')[['rating']]\n",
    "sorted_y = games_top.sort_values('followers')['followers']\n",
    "\n",
    "#pipeline.fit(sorted_X,sorted_y)\n",
    "grid_search.fit(X, y)\n",
    "\n",
    "\n",
    "#cv_result = cross_validate(pipeline, X, y, cv = 5)\n",
    "#cv_result['test_score'].mean()\n",
    "\n",
    "#reg = LassoCV(cv=5, random_state=0).fit(sorted_X, sorted_y)\n",
    "#reg.score(sorted_X, sorted_y)\n",
    "\n",
    "\n",
    "grid_search.best_score_\n",
    "\n",
    "grid_search.best_params_\n",
    "\n"
   ]
  },
  {
   "cell_type": "code",
   "execution_count": null,
   "id": "21e09b50",
   "metadata": {
    "hidden": true
   },
   "outputs": [],
   "source": [
    "games_detail = st.Steam().get_three_dataset_game_price()\n",
    "\n",
    "games_detail.head()"
   ]
  },
  {
   "cell_type": "code",
   "execution_count": null,
   "id": "0d93920e",
   "metadata": {
    "hidden": true
   },
   "outputs": [],
   "source": [
    "sns.scatterplot(x = games_detail['Peak CCU'], y=games_detail['Average playtime forever'])\n",
    "plt.show()"
   ]
  },
  {
   "cell_type": "code",
   "execution_count": null,
   "id": "fe14c96a",
   "metadata": {
    "hidden": true
   },
   "outputs": [],
   "source": [
    "# Test the learning curve\n",
    "\n",
    "\n",
    "from sklearn.model_selection import learning_curve\n",
    "\n",
    "train_sizes = [25,50,75,100,250,500]\n",
    "\n",
    "# Get train scores (R2), train sizes, and validation scores using `learning_curve`\n",
    "train_sizes, train_scores, test_scores = learning_curve(estimator=LinearRegression(), X=X, y=y, train_sizes=train_sizes, cv=5)\n",
    "\n",
    "# Take the mean of cross-validated train scores and validation scores*`\n",
    "\n",
    "train_scores_mean = np.mean(train_scores, axis=1)\n",
    "test_scores_mean = np.mean(test_scores, axis=1)\n",
    "\n",
    "plt.plot(train_sizes, train_scores_mean, label = 'Training score')\n",
    "\n",
    "plt.plot(train_sizes, test_scores_mean, label = 'Test score')\n",
    "\n",
    "plt.ylabel('r2 score', fontsize = 14)\n",
    "plt.xlabel('Training set size', fontsize = 14)\n",
    "\n",
    "plt.title('Learning curves', fontsize = 18, y = 1.03)\n",
    "\n",
    "plt.legend()\n",
    "plt.show()"
   ]
  },
  {
   "cell_type": "markdown",
   "id": "f481ae62",
   "metadata": {
    "heading_collapsed": true
   },
   "source": [
    "## Requirements observation"
   ]
  },
  {
   "cell_type": "code",
   "execution_count": null,
   "id": "756484c5",
   "metadata": {
    "hidden": true
   },
   "outputs": [],
   "source": [
    "# File Size is not a good candidate for price prediction\n",
    "\n",
    "requirements_df = pd.read_csv('data/csv/requirements.csv')\n",
    "requirements_df.info()\n",
    "\n",
    "col_names = requirements_df.columns\n",
    "\n",
    "for col_name in col_names:\n",
    "    requirements_df.rename(columns={ col_name: col_name.replace(':','')} , inplace= True)\n",
    "requirements_df.head()\n",
    "\n",
    "index_to_drop = []\n",
    "\n",
    "# Converting Memory and File size into numbers\n",
    "\n",
    "for ind, val in requirements_df.iterrows():\n",
    "    \n",
    "    if 'MB' in str(val['Memory']) :\n",
    "        val['Memory'] = int(str(val['Memory']).replace('MB', '').strip()) / 1024\n",
    "    elif 'GB' in str(val['Memory']):\n",
    "        val['Memory'] = str(val['Memory']).replace('GB', '').strip()\n",
    "    else:\n",
    "        index_to_drop.append(ind)\n",
    "        \n",
    "    if 'MB' in str(val['File Size']) :\n",
    "        val['File Size'] = int(str(val['File Size']).replace('MB', '').strip()) / 1000\n",
    "    elif 'GB' in str(val['File Size']):\n",
    "        val['File Size'] = str(val['File Size']).replace('GB', '').strip()\n",
    "    else:\n",
    "        index_to_drop.append(ind)\n",
    "        \n",
    "    val['name'] = str(val['name']).replace('System Requirements', '').strip().lower()\n",
    "   \n",
    "        \n",
    "# Drop an misinformation\n",
    "index_to_drop.append(11307)\n",
    "\n",
    "requirements_df.drop(index = index_to_drop, inplace = True)\n",
    "requirements_df[['Memory', 'File Size']] = requirements_df[['Memory', 'File Size']].apply(pd.to_numeric)\n",
    "requirements_df['name'] = requirements_df['name'].apply(lambda x: x.lower())\n",
    "requirements_df['Graphics Card'] = requirements_df['Graphics Card'].apply(lambda x: x.strip())\n",
    "requirements_df['CPU'] = requirements_df['CPU'].apply(lambda x: x.strip())\n",
    "\n",
    "game_price_df = requirements_df.merge(games_top[['price', 'name']], on = 'name', how = 'inner')\n",
    "\n",
    "\n",
    "game_price_df['price'] = game_price_df['price'].sort_values()\n",
    "game_price_df\n",
    "\n",
    "fair_price = game_price_df[game_price_df['price'] < 200]\n",
    "fair_price.info()\n",
    "\n",
    "fair_all = fair_price[fair_price['Memory'] < 20]\n",
    "fair_all = fair_all[fair_all['File Size'] < 50]\n",
    "fair_all.info()\n",
    "\n",
    "plt.scatter(x= fair_all['Memory'], y= fair_all['price'])\n",
    "\n",
    "fair_all[fair_all['Graphics Card'] == 'NVIDIA GeForce GTX 750']['Graphics Card'].count()\n",
    "\n",
    "def value_summary(df, column):\n",
    "    summary_val = df[column].unique()\n",
    "    summary_dict = {}\n",
    "    print('Num of all unique value: \\n')\n",
    "    for val in summary_val:\n",
    "        num_of_unique_val = df[df[column] == val][column].count()\n",
    "        \n",
    "        summary_dict[val] = num_of_unique_val\n",
    "        \n",
    "        summary_dict.items()   \n",
    "     \n",
    "    #print(f'{val}: {str(num_of_unique_val).rjust(40 - len(val))}')\n",
    "\n",
    "value_summary(fair_all, 'Graphics Card')\n",
    "\n"
   ]
  }
 ],
 "metadata": {
  "kernelspec": {
   "display_name": "Python 3 (ipykernel)",
   "language": "python",
   "name": "python3"
  },
  "language_info": {
   "codemirror_mode": {
    "name": "ipython",
    "version": 3
   },
   "file_extension": ".py",
   "mimetype": "text/x-python",
   "name": "python",
   "nbconvert_exporter": "python",
   "pygments_lexer": "ipython3",
   "version": "3.10.6"
  },
  "toc": {
   "base_numbering": 1,
   "nav_menu": {},
   "number_sections": true,
   "sideBar": true,
   "skip_h1_title": false,
   "title_cell": "Table of Contents",
   "title_sidebar": "Contents",
   "toc_cell": false,
   "toc_position": {},
   "toc_section_display": true,
   "toc_window_display": false
  }
 },
 "nbformat": 4,
 "nbformat_minor": 5
}
